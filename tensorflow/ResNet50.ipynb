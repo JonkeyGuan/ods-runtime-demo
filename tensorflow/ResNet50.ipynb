{
 "cells": [
  {
   "cell_type": "code",
   "execution_count": null,
   "id": "945de5fd-72a1-4026-9d1a-eab8395b59c8",
   "metadata": {
    "tags": []
   },
   "outputs": [],
   "source": [
    "!pip install pip -qU\n",
    "!pip install -r requirements.txt -q"
   ]
  },
  {
   "cell_type": "code",
   "execution_count": null,
   "id": "fb64d515-0f2c-43b4-b311-b395e916f8f4",
   "metadata": {
    "tags": []
   },
   "outputs": [],
   "source": [
    "import tensorflow as tf\n",
    "import mlflow\n",
    "import mlflow.tensorflow\n",
    "from tensorflow.keras.applications import ResNet50\n",
    "from tensorflow.keras.applications.resnet50 import preprocess_input\n",
    "\n",
    "# # Load the ResNet50 model\n",
    "# resnet_model = ResNet50(weights='imagenet')\n",
    "\n",
    "loaded_model = tf.keras.models.load_model(\"tensorflow/model\")\n"
   ]
  },
  {
   "cell_type": "code",
   "execution_count": null,
   "id": "9ab38e1f-852b-46fc-895c-cc691d31b33b",
   "metadata": {
    "tags": []
   },
   "outputs": [],
   "source": [
    "# Function to preprocess an image for ResNet50\n",
    "def preprocess_image(img_path):\n",
    "    img = tf.keras.preprocessing.image.load_img(img_path, target_size=(224, 224))\n",
    "    img_array = tf.keras.preprocessing.image.img_to_array(img)\n",
    "    img_array = preprocess_input(img_array)\n",
    "    img_array = tf.expand_dims(img_array, 0)\n",
    "    return img_array\n",
    "\n",
    "# Save the ResNet50 model in TensorFlow SavedModel format\n",
    "@tf.function(input_signature=[tf.TensorSpec(shape=[None, 224, 224, 3], dtype=tf.float32)])\n",
    "def resnet_serving_fn(images):\n",
    "    return {\"predictions\": resnet_model(images)}"
   ]
  },
  {
   "cell_type": "code",
   "execution_count": null,
   "id": "3cd2be2b-50cf-45ab-86c1-4ac98d84f052",
   "metadata": {
    "tags": []
   },
   "outputs": [],
   "source": [
    "import os\n",
    "import json\n",
    "import tempfile\n",
    "import mlflow\n",
    "MLFLOW_ROUTE = os.getenv(\"MLFLOW_ROUTE\")\n",
    "mlflow.set_tracking_uri(MLFLOW_ROUTE)\n",
    "mlflow.set_experiment(\"resnet\")\n",
    "mlflow.pytorch.autolog(registered_model_name=\"resnet\")\n"
   ]
  },
  {
   "cell_type": "code",
   "execution_count": null,
   "id": "8837d2f4-7e6c-4576-a51d-529d5271090b",
   "metadata": {
    "tags": []
   },
   "outputs": [],
   "source": [
    "# Log the ResNet50 model with a signature to MLflow\n",
    "with mlflow.start_run() as run:\n",
    "    mlflow.tensorflow.log_model(\n",
    "        model=loaded_model,\n",
    "        artifact_path=\"model\"\n",
    "    )\n",
    "    \n",
    "    temp_model_dir = tempfile.TemporaryDirectory().name + \"/tensorflow-model\"\n",
    "    loaded_model.save(temp_model_dir)\n",
    "    mlflow.log_artifact(temp_model_dir)"
   ]
  }
 ],
 "metadata": {
  "kernelspec": {
   "display_name": "Python 3.9",
   "language": "python",
   "name": "python3"
  },
  "language_info": {
   "codemirror_mode": {
    "name": "ipython",
    "version": 3
   },
   "file_extension": ".py",
   "mimetype": "text/x-python",
   "name": "python",
   "nbconvert_exporter": "python",
   "pygments_lexer": "ipython3",
   "version": "3.9.18"
  }
 },
 "nbformat": 4,
 "nbformat_minor": 5
}
