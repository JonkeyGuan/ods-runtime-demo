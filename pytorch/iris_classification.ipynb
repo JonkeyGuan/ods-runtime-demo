{
 "cells": [
  {
   "cell_type": "code",
   "execution_count": 1,
   "id": "17f20f50-b01f-460c-bf51-8bd18cc6d7b7",
   "metadata": {
    "tags": []
   },
   "outputs": [],
   "source": [
    "!pip install pip -qU\n",
    "!pip install -r requirements.txt -q"
   ]
  },
  {
   "cell_type": "code",
   "execution_count": 2,
   "id": "bdf2e0de-a9ff-4645-b587-c496e55e5a71",
   "metadata": {
    "tags": []
   },
   "outputs": [],
   "source": [
    "import torch\n",
    "import torch.nn.functional as F\n",
    "from sklearn.datasets import load_iris\n",
    "from sklearn.metrics import accuracy_score\n",
    "from sklearn.model_selection import train_test_split\n",
    "from torch import nn\n",
    "\n",
    "import mlflow.pytorch\n",
    "from mlflow.models import infer_signature\n",
    "\n",
    "\n",
    "class IrisClassifier(nn.Module):\n",
    "    def __init__(self):\n",
    "        super().__init__()\n",
    "        self.fc1 = nn.Linear(4, 10)\n",
    "        self.fc2 = nn.Linear(10, 10)\n",
    "        self.fc3 = nn.Linear(10, 3)\n",
    "\n",
    "    def forward(self, x):\n",
    "        x = F.relu(self.fc1(x))\n",
    "        x = F.relu(self.fc2(x))\n",
    "        x = F.dropout(x, 0.2)\n",
    "        x = self.fc3(x)\n",
    "        return x\n",
    "\n",
    "\n",
    "device = torch.device(\"cuda\" if torch.cuda.is_available() else \"cpu\")\n",
    "\n",
    "\n",
    "def prepare_data():\n",
    "    iris = load_iris()\n",
    "    data = iris.data\n",
    "    labels = iris.target\n",
    "    target_names = iris.target_names\n",
    "\n",
    "    X_train, X_test, y_train, y_test = train_test_split(\n",
    "        data, labels, test_size=0.2, random_state=42, shuffle=True, stratify=labels\n",
    "    )\n",
    "\n",
    "    X_train = torch.FloatTensor(X_train).to(device)\n",
    "    X_test = torch.FloatTensor(X_test).to(device)\n",
    "    y_train = torch.LongTensor(y_train).to(device)\n",
    "    y_test = torch.LongTensor(y_test).to(device)\n",
    "\n",
    "    return X_train, X_test, y_train, y_test, target_names\n",
    "\n",
    "\n",
    "def train_model(model, epochs, X_train, y_train):\n",
    "    criterion = nn.CrossEntropyLoss()\n",
    "    optimizer = torch.optim.Adam(model.parameters(), lr=0.01)\n",
    "\n",
    "    for epoch in range(epochs):\n",
    "        out = model(X_train)\n",
    "        loss = criterion(out, y_train).to(device)\n",
    "        optimizer.zero_grad()\n",
    "        loss.backward()\n",
    "        optimizer.step()\n",
    "\n",
    "        if epoch % 10 == 0:\n",
    "            print(\"number of epoch\", epoch, \"loss\", float(loss))\n",
    "\n",
    "    return model\n",
    "\n",
    "\n",
    "def test_model(model, X_test, y_test):\n",
    "    model.eval()\n",
    "    with torch.no_grad():\n",
    "        predict_out = model(X_test)\n",
    "        _, predict_y = torch.max(predict_out, 1)\n",
    "\n",
    "        print(\"\\nprediction accuracy\", float(accuracy_score(y_test.cpu(), predict_y.cpu())))\n",
    "        return predict_out\n",
    "\n"
   ]
  },
  {
   "cell_type": "code",
   "execution_count": 3,
   "id": "5c295ea6-31c1-4085-b584-b466c8875d8d",
   "metadata": {},
   "outputs": [],
   "source": [
    "import os\n",
    "import json\n",
    "import mlflow\n",
    "import tempfile\n",
    "\n",
    "MLFLOW_ROUTE = os.getenv(\"MLFLOW_ROUTE\")\n",
    "mlflow.set_tracking_uri(MLFLOW_ROUTE)\n",
    "mlflow.set_experiment(\"iris\")\n",
    "mlflow.pytorch.autolog(registered_model_name=\"iris\")\n"
   ]
  },
  {
   "cell_type": "code",
   "execution_count": 4,
   "id": "22a852c4-a8b9-404c-ac3d-13d3af82f8cb",
   "metadata": {
    "tags": []
   },
   "outputs": [
    {
     "name": "stdout",
     "output_type": "stream",
     "text": [
      "number of epoch 0 loss 1.0797507762908936\n",
      "number of epoch 10 loss 0.8617256879806519\n",
      "number of epoch 20 loss 0.6191173791885376\n",
      "number of epoch 30 loss 0.45033156871795654\n",
      "number of epoch 40 loss 0.318576842546463\n",
      "number of epoch 50 loss 0.28423839807510376\n",
      "number of epoch 60 loss 0.22784046828746796\n",
      "number of epoch 70 loss 0.14465157687664032\n",
      "number of epoch 80 loss 0.1809622347354889\n",
      "number of epoch 90 loss 0.144547700881958\n",
      "\n",
      "prediction accuracy 0.9666666666666667\n"
     ]
    },
    {
     "name": "stderr",
     "output_type": "stream",
     "text": [
      "2023/12/04 07:46:09 WARNING mlflow.utils.requirements_utils: Found torch version (2.0.1+cu118) contains a local version label (+cu118). MLflow logged a pip requirement for this package as 'torch==2.0.1' without the local version label to make it installable from PyPI. To specify pip requirements containing local version labels, please use `conda_env` or `pip_requirements`.\n",
      "2023/12/04 07:46:14 WARNING mlflow.utils.requirements_utils: Found torch version (2.0.1+cu118) contains a local version label (+cu118). MLflow logged a pip requirement for this package as 'torch==2.0.1' without the local version label to make it installable from PyPI. To specify pip requirements containing local version labels, please use `conda_env` or `pip_requirements`.\n",
      "/opt/app-root/lib64/python3.9/site-packages/_distutils_hack/__init__.py:33: UserWarning: Setuptools is replacing distutils.\n",
      "  warnings.warn(\"Setuptools is replacing distutils.\")\n"
     ]
    }
   ],
   "source": [
    "epochs = 100\n",
    "model = IrisClassifier()\n",
    "model = model.to(device)\n",
    "X_train, X_test, y_train, y_test, target_names = prepare_data()\n",
    "scripted_model = torch.jit.script(model)  # scripting the model\n",
    "scripted_model = train_model(scripted_model, epochs, X_train, y_train)\n",
    "# signature = test_model(scripted_model, X_test, y_test)\n",
    "predict_out = test_model(scripted_model, X_test, y_test)\n",
    "signature = infer_signature(X_test.numpy(), predict_out.detach().numpy())\n",
    "\n",
    "with mlflow.start_run() as run:\n",
    "    mlflow.pytorch.log_model(\n",
    "        scripted_model, \"model\", signature=signature, backend=\"torchscript\"\n",
    "    )  # logging scripted model\n",
    "    \n",
    "    temp_model_dir = tempfile.TemporaryDirectory().name + \"/pytorch-model\"\n",
    "    os.makedirs(temp_model_dir, exist_ok=True)\n",
    "    \n",
    "    scripted_model.save(temp_model_dir + \"/model.pt\")\n",
    "    # print(scripted_model.graph)\n",
    "    mlflow.log_artifact(temp_model_dir + \"/model.pt\", artifact_path=\"pytorch-model/1\")\n",
    "    \n",
    "    # Generate ModelMesh Triton's config.pbtxt file\n",
    "    triton_schema_text = f\"\"\"\n",
    "    platform: \"pytorch_libtorch\"\n",
    "    max_batch_size: 1\n",
    "    input [\n",
    "      {{\n",
    "        name: \"input__0\"\n",
    "        data_type: TYPE_FP32\n",
    "        dims: {list(X_test.shape)}\n",
    "      }}\n",
    "    ]\n",
    "    output [\n",
    "      {{\n",
    "        name: \"output__0\"\n",
    "        data_type: TYPE_FP32\n",
    "        dims: {list(predict_out.shape)}\n",
    "      }}\n",
    "    ]\n",
    "    \"\"\"\n",
    "    # Save the Triton config.pbtxt\n",
    "    schema_file_path_txt = temp_model_dir + \"/config.pbtxt\"  \n",
    "    with open(schema_file_path_txt, \"w\") as f:\n",
    "        f.write(triton_schema_text)\n",
    "        \n",
    "    mlflow.log_artifact(schema_file_path_txt, artifact_path=\"pytorch-model\")\n"
   ]
  }
 ],
 "metadata": {
  "kernelspec": {
   "display_name": "Python 3.9",
   "language": "python",
   "name": "python3"
  },
  "language_info": {
   "codemirror_mode": {
    "name": "ipython",
    "version": 3
   },
   "file_extension": ".py",
   "mimetype": "text/x-python",
   "name": "python",
   "nbconvert_exporter": "python",
   "pygments_lexer": "ipython3",
   "version": "3.9.18"
  }
 },
 "nbformat": 4,
 "nbformat_minor": 5
}
